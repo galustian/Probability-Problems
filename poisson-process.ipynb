{
 "cells": [
  {
   "cell_type": "markdown",
   "metadata": {},
   "source": [
    "# Poisson Process\n",
    "This notebook demonstrates how to simulate a simple poisson process and calculates the frequentist mean of the the poisson- and exponential distribution. The poisson mean is $\\lambda$ and exponential mean is $\\frac{1}{\\lambda}$.\n",
    "\n",
    "The most common continuous random variable for a poisson process is time. For the sake of being different, lets choose the amount of water that flows down a waterfall as the r.v. We denote the lambda as the rate at which a fish is in the water. Lets say, at a particular waterfall, on average $100.000$ liters of water have to flow down, until a fish appears. The exponential is the only memoryless continuous distribution, which means that no matter how long we wait, it wont increase the likelihood that a fish appears."
   ]
  },
  {
   "cell_type": "code",
   "execution_count": 1,
   "metadata": {},
   "outputs": [],
   "source": [
    "import numpy as np"
   ]
  },
  {
   "cell_type": "code",
   "execution_count": 2,
   "metadata": {},
   "outputs": [],
   "source": [
    "lambda_ = 1e-05 # rate of occurence per liter"
   ]
  },
  {
   "cell_type": "code",
   "execution_count": 3,
   "metadata": {},
   "outputs": [
    {
     "name": "stdout",
     "output_type": "stream",
     "text": [
      "Simulated Poisson mean: 1.05e-05\n",
      "Simulated Poisson variance: 1.0499890001196826e-05\n",
      "Simulated Exponential mean: 95238.09523809524\n"
     ]
    }
   ],
   "source": [
    "n_liters = 10_000_000\n",
    "\n",
    "successes = 0\n",
    "pois_variance_sum = 0\n",
    "\n",
    "wait_liters = 0\n",
    "\n",
    "for i in range(n_liters):\n",
    "    # count successes\n",
    "    wait_liters += 1\n",
    "    if np.random.randint(0, int(1/lambda_)+1) == int(1/lambda_):\n",
    "        successes += 1\n",
    "        pois_variance_sum += np.power(1 - lambda_, 2)\n",
    "    else:\n",
    "        pois_variance_sum += np.power(0 - lambda_, 2)\n",
    "\n",
    "print(\"Simulated Poisson mean:\", successes / n_liters)\n",
    "print(\"Simulated Poisson variance:\", pois_variance_sum / n_liters)\n",
    "print(\"Simulated Exponential mean:\", n_liters / successes)"
   ]
  }
 ],
 "metadata": {
  "kernelspec": {
   "display_name": "Python 3",
   "language": "python",
   "name": "python3"
  },
  "language_info": {
   "codemirror_mode": {
    "name": "ipython",
    "version": 3
   },
   "file_extension": ".py",
   "mimetype": "text/x-python",
   "name": "python",
   "nbconvert_exporter": "python",
   "pygments_lexer": "ipython3",
   "version": "3.6.4"
  }
 },
 "nbformat": 4,
 "nbformat_minor": 2
}
