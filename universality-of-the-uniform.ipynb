{
 "cells": [
  {
   "cell_type": "markdown",
   "metadata": {},
   "source": [
    "# Universality of the Uniform\n",
    "The standard uniform distribution $U$ has two very interesting property. \n",
    "1. You can create random-variables of any distribution with it, given that you have its inverse CDF (Quantile function). $F^{-1}(U)=X$\n",
    "2. You can do the inverse of the above and create the standard uniform distribution, given that you have the CDF and the rvs. of that CDF."
   ]
  },
  {
   "cell_type": "code",
   "execution_count": 1,
   "metadata": {},
   "outputs": [],
   "source": [
    "import numpy as np\n",
    "import matplotlib.pyplot as plt"
   ]
  },
  {
   "cell_type": "markdown",
   "metadata": {},
   "source": [
    "# 1. Create the rvs., given the inverse CDF\n",
    "$F^{-1}(U)=X$\n",
    "#### For illustration we will use logistic rvs.\n",
    "Logistic CDF:\n",
    "$F(x)=\\frac{e^x}{1+e^x}$\n",
    "\n",
    "Logistic Inverse CDF: $F^-1(p)=log(\\frac{p}{1-p})$"
   ]
  },
  {
   "cell_type": "markdown",
   "metadata": {},
   "source": [
    "#### Now let p be U\n",
    "$F^-1(U)=log(\\frac{U}{1-U})=X$"
   ]
  },
  {
   "cell_type": "markdown",
   "metadata": {},
   "source": [
    "### Run simulation:"
   ]
  },
  {
   "cell_type": "code",
   "execution_count": 86,
   "metadata": {},
   "outputs": [],
   "source": [
    "n_simulations = int(10e4)\n",
    "rv_counts = {}"
   ]
  },
  {
   "cell_type": "code",
   "execution_count": 87,
   "metadata": {},
   "outputs": [],
   "source": [
    "for i in range(n_simulations):\n",
    "    r = np.random.rand()\n",
    "    x_float = np.log(r/(1-r))\n",
    "    x_int = int(np.round(x_float))\n",
    "    try:\n",
    "        rv_counts[x_int] += 1\n",
    "    except KeyError:\n",
    "        rv_counts[x_int] = 1"
   ]
  },
  {
   "cell_type": "code",
   "execution_count": 89,
   "metadata": {},
   "outputs": [],
   "source": [
    "bar_x = []\n",
    "bar_y = []\n",
    "\n",
    "for x in rv_counts:\n",
    "    bar_x.append(x)\n",
    "    bar_y.append(rv_counts[x])"
   ]
  },
  {
   "cell_type": "code",
   "execution_count": 94,
   "metadata": {},
   "outputs": [
    {
     "data": {
      "image/png": "[encoded data removed]",
      "text/plain": [
       "<Figure size 432x288 with 1 Axes>"
      ]
     },
     "metadata": {},
     "output_type": "display_data"
    }
   ],
   "source": [
    "plt.bar(bar_x, bar_y, align='center')\n",
    "plt.title('Logistic PDF approximation')\n",
    "plt.show()"
   ]
  },
  {
   "cell_type": "markdown",
   "metadata": {},
   "source": [
    "# 2. Create standard uniform rvs., given the CDF and its rvs.\n",
    "$F(X)=U$"
   ]
  },
  {
   "cell_type": "code",
   "execution_count": 185,
   "metadata": {},
   "outputs": [],
   "source": [
    "n_simulations = int(10e4)\n",
    "rv_counts = {}\n",
    "\n",
    "for i in range(n_simulations):\n",
    "    X = np.random.logistic()\n",
    "    F = np.exp(X) / (1 + np.exp(X))\n",
    "    # scale to easily convert to categorical\n",
    "    F *= 10\n",
    "    F = np.ceil(F)\n",
    "    F /= 10\n",
    "    try:\n",
    "        rv_counts[F] += 1\n",
    "    except KeyError:\n",
    "        rv_counts[F] = 1"
   ]
  },
  {
   "cell_type": "code",
   "execution_count": 186,
   "metadata": {},
   "outputs": [],
   "source": [
    "bar_x = []\n",
    "bar_y = []\n",
    "\n",
    "for x in rv_counts:\n",
    "    bar_x.append(x)\n",
    "    bar_y.append(rv_counts[x])"
   ]
  },
  {
   "cell_type": "code",
   "execution_count": 187,
   "metadata": {},
   "outputs": [
    {
     "data": {
      "image/png": "[encoded data removed]",
      "text/plain": [
       "<Figure size 432x288 with 1 Axes>"
      ]
     },
     "metadata": {},
     "output_type": "display_data"
    }
   ],
   "source": [
    "plt.bar(bar_x, bar_y, align='center')\n",
    "plt.title('Uniformly distributed rvs.')\n",
    "plt.xlim(0.0, 1.0)\n",
    "plt.show()"
   ]
  },
  {
   "cell_type": "markdown",
   "metadata": {},
   "source": [
    "## Why does this work?\n",
    "There are two ways to prove this:\n",
    "1. Mathematically\n",
    "2. By using a story (formally)\n",
    "\n",
    "I'll be presenting both, but it is much more important to understand the latter story-proof.\n",
    "\n",
    "### 1. Mathematical Proof\n",
    "We are assuming $X$ to be equal to $F^{-1}(U)$, so lets see if the laws of probability are still valid and the same then:\n",
    "\n",
    "$ P(X\\leq x) = P(F^{-1}(U)\\leq x) = P(U\\leq F(x)) = F(x) $\n",
    "\n",
    "$ P(X\\leq x) = F(x)$\n",
    "\n",
    "For the proof of the second statement $F(X)=U$ we let $Y=F(X)$ and bare in mind that $ P(U\\leq p)=p $.\n",
    "\n",
    "$ P(Y\\leq y) = P(F(X)\\leq y) = P(X\\leq F^{-1}(y)) = F(F^{-1}(y)) = y $\n",
    "\n",
    "### 2. Story Proof"
   ]
  },
  {
   "cell_type": "markdown",
   "metadata": {},
   "source": [
    "Imagine students taking an exam and let $X$ be the score (lets say between 0 and 100) of a random student. Also assume that the scores are continous (which we have to do).\n",
    "\n",
    "\n",
    "##### $F(X)=U$  Proof\n",
    "The percentile function $F(x)$ says how much better a student with score $x$ is better than the rest (in the top 0.xx %). Now it may often be the case that X has a very strange looking distribution, but its percentiles are all uniform (for example: there are as many students at the bottom 10% as in the top 10%, or between [0.4;0.5] and [0.5;0.6]). Therefore the percentiles of the students are uniformly distributed.\n",
    "\n",
    "##### $F^{-1}(U)=X$  Proof\n",
    "The quantile function $F^{-1}(p)$ give you the points that are needed for a student to be in the top 0.xx percent. Since the percentiles of the students (top 5%, bottom 5%) are uniformly distributed, sampling a random uniform percentile (between 0.0 and 1.0) is like picking a random studend, which is the definition of $X$. So $F^{-1}(U)=X$"
   ]
  }
 ],
 "metadata": {
  "kernelspec": {
   "display_name": "Python 3",
   "language": "python",
   "name": "python3"
  },
  "language_info": {
   "codemirror_mode": {
    "name": "ipython",
    "version": 3
   },
   "file_extension": ".py",
   "mimetype": "text/x-python",
   "name": "python",
   "nbconvert_exporter": "python",
   "pygments_lexer": "ipython3",
   "version": "3.6.4"
  }
 },
 "nbformat": 4,
 "nbformat_minor": 2
}
